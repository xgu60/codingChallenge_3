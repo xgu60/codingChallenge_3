{
 "cells": [
  {
   "cell_type": "code",
   "execution_count": 1,
   "metadata": {},
   "outputs": [],
   "source": [
    "#define functions for string process\n",
    "def is_valid(sequence):\n",
    "    for i in range(len(sequence)):\n",
    "        if i % 4 == 1 and sequence[i] not in [\"A\", \"T\", \"G\", \"C\", \"U\"]:\n",
    "            return False\n",
    "        if i % 4 == 2 and sequence[i] not in [\"r\", \"d\", \"m\"]:\n",
    "            return False\n",
    "        if i % 4 == 3 and sequence[i] not in [\"o\", \"s\"]:\n",
    "            return False\n",
    "    return True\n",
    "\n",
    "def length_of_sequence(sequence):\n",
    "    if not is_valid(sequence):\n",
    "        return -1\n",
    "    return len(sequence) // 4 + 1 \n",
    "\n",
    "def get_product_type(sequence):\n",
    "    if not is_valid(sequence):\n",
    "        return -1\n",
    "    myset = set()\n",
    "    for i in range(2, len(sequence), 4):\n",
    "        myset.add(sequence[i])\n",
    "        if sequence[i] == 'm':\n",
    "            if i + 1 < len(sequence) and sequence[i + 1] != 's':\n",
    "                return -1\n",
    "    if len(myset) == 1 and list(myset)[0] == 'r':\n",
    "        return \"vanilla RNA\"\n",
    "    if len(myset) == 2:\n",
    "        if 'd' in myset and 'r' in myset:\n",
    "            return \"chimera\"\n",
    "        if 'm' in myset and 'r' in myset:\n",
    "            return \"mod RNA\"\n",
    "    return -1\n"
   ]
  },
  {
   "cell_type": "code",
   "execution_count": 2,
   "metadata": {},
   "outputs": [],
   "source": [
    "import pandas as pd\n",
    "import numpy as np\n",
    "import matplotlib.pyplot as plt\n",
    "import seaborn as sns\n",
    "from scipy.stats import ttest_ind\n",
    "%matplotlib inline"
   ]
  },
  {
   "cell_type": "code",
   "execution_count": 3,
   "metadata": {},
   "outputs": [],
   "source": [
    "data = pd.read_csv(\"synthesis_data.csv\")"
   ]
  },
  {
   "cell_type": "code",
   "execution_count": 4,
   "metadata": {},
   "outputs": [
    {
     "data": {
      "text/html": [
       "<div>\n",
       "<style scoped>\n",
       "    .dataframe tbody tr th:only-of-type {\n",
       "        vertical-align: middle;\n",
       "    }\n",
       "\n",
       "    .dataframe tbody tr th {\n",
       "        vertical-align: top;\n",
       "    }\n",
       "\n",
       "    .dataframe thead th {\n",
       "        text-align: right;\n",
       "    }\n",
       "</style>\n",
       "<table border=\"1\" class=\"dataframe\">\n",
       "  <thead>\n",
       "    <tr style=\"text-align: right;\">\n",
       "      <th></th>\n",
       "      <th>four_letter_sequence</th>\n",
       "      <th>synthesis_id</th>\n",
       "      <th>n-1</th>\n",
       "      <th>n+1</th>\n",
       "      <th>pure_yield</th>\n",
       "      <th>full_length_product</th>\n",
       "      <th>other_impurity</th>\n",
       "      <th>synthesis_duration</th>\n",
       "      <th>postprocessing_duration</th>\n",
       "    </tr>\n",
       "  </thead>\n",
       "  <tbody>\n",
       "    <tr>\n",
       "      <th>0</th>\n",
       "      <td>-Gms-Ums-Cms-Gro-Cro-Uro-Cro-Cro-Cro-Cro-Gro-G...</td>\n",
       "      <td>1</td>\n",
       "      <td>4.797640</td>\n",
       "      <td>6.381929</td>\n",
       "      <td>8.795529</td>\n",
       "      <td>74.553685</td>\n",
       "      <td>0.021143</td>\n",
       "      <td>55.654369</td>\n",
       "      <td>35.755761</td>\n",
       "    </tr>\n",
       "    <tr>\n",
       "      <th>1</th>\n",
       "      <td>-Ums-Cms-Ams-Gro-Gro-Cro-Cro-Gro-Cro-Aro-Gro-G...</td>\n",
       "      <td>1</td>\n",
       "      <td>8.056743</td>\n",
       "      <td>8.434807</td>\n",
       "      <td>6.089592</td>\n",
       "      <td>74.963525</td>\n",
       "      <td>0.053352</td>\n",
       "      <td>55.654369</td>\n",
       "      <td>35.755761</td>\n",
       "    </tr>\n",
       "    <tr>\n",
       "      <th>2</th>\n",
       "      <td>-Gms-Ums-Ams-Uro-Aro-Uro-Aro-Gro-Aro-Uro-Gro-A...</td>\n",
       "      <td>1</td>\n",
       "      <td>5.376105</td>\n",
       "      <td>10.042194</td>\n",
       "      <td>9.068502</td>\n",
       "      <td>73.169193</td>\n",
       "      <td>0.000000</td>\n",
       "      <td>55.654369</td>\n",
       "      <td>35.755761</td>\n",
       "    </tr>\n",
       "    <tr>\n",
       "      <th>3</th>\n",
       "      <td>-Cms-Ums-Cms-Cro-Cro-Uro-Cro-Cro-Cro-Aro-Gro-G...</td>\n",
       "      <td>1</td>\n",
       "      <td>1.932084</td>\n",
       "      <td>10.383295</td>\n",
       "      <td>4.258049</td>\n",
       "      <td>73.053785</td>\n",
       "      <td>0.000000</td>\n",
       "      <td>55.654369</td>\n",
       "      <td>35.755761</td>\n",
       "    </tr>\n",
       "    <tr>\n",
       "      <th>4</th>\n",
       "      <td>-Cms-Ums-Cms-Cro-Cro-Uro-Cro-Cro-Cro-Aro-Gro-G...</td>\n",
       "      <td>1</td>\n",
       "      <td>7.064074</td>\n",
       "      <td>4.899295</td>\n",
       "      <td>9.150096</td>\n",
       "      <td>77.128862</td>\n",
       "      <td>0.000000</td>\n",
       "      <td>55.654369</td>\n",
       "      <td>35.755761</td>\n",
       "    </tr>\n",
       "  </tbody>\n",
       "</table>\n",
       "</div>"
      ],
      "text/plain": [
       "                                four_letter_sequence  synthesis_id       n-1  \\\n",
       "0  -Gms-Ums-Cms-Gro-Cro-Uro-Cro-Cro-Cro-Cro-Gro-G...             1  4.797640   \n",
       "1  -Ums-Cms-Ams-Gro-Gro-Cro-Cro-Gro-Cro-Aro-Gro-G...             1  8.056743   \n",
       "2  -Gms-Ums-Ams-Uro-Aro-Uro-Aro-Gro-Aro-Uro-Gro-A...             1  5.376105   \n",
       "3  -Cms-Ums-Cms-Cro-Cro-Uro-Cro-Cro-Cro-Aro-Gro-G...             1  1.932084   \n",
       "4  -Cms-Ums-Cms-Cro-Cro-Uro-Cro-Cro-Cro-Aro-Gro-G...             1  7.064074   \n",
       "\n",
       "         n+1  pure_yield  full_length_product  other_impurity  \\\n",
       "0   6.381929    8.795529            74.553685        0.021143   \n",
       "1   8.434807    6.089592            74.963525        0.053352   \n",
       "2  10.042194    9.068502            73.169193        0.000000   \n",
       "3  10.383295    4.258049            73.053785        0.000000   \n",
       "4   4.899295    9.150096            77.128862        0.000000   \n",
       "\n",
       "   synthesis_duration  postprocessing_duration  \n",
       "0           55.654369                35.755761  \n",
       "1           55.654369                35.755761  \n",
       "2           55.654369                35.755761  \n",
       "3           55.654369                35.755761  \n",
       "4           55.654369                35.755761  "
      ]
     },
     "execution_count": 4,
     "metadata": {},
     "output_type": "execute_result"
    }
   ],
   "source": [
    "data.head()"
   ]
  },
  {
   "cell_type": "code",
   "execution_count": 5,
   "metadata": {},
   "outputs": [
    {
     "name": "stdout",
     "output_type": "stream",
     "text": [
      "the shape of data:(160, 9)\n",
      "four_letter_sequence        0\n",
      "synthesis_id                0\n",
      "n-1                        34\n",
      "n+1                        34\n",
      "pure_yield                 16\n",
      "full_length_product        32\n",
      "other_impurity             32\n",
      "synthesis_duration          0\n",
      "postprocessing_duration     0\n",
      "dtype: int64\n"
     ]
    }
   ],
   "source": [
    "print(\"the shape of data:{}\".format(data.shape))\n",
    "print(data.isnull().sum())"
   ]
  },
  {
   "cell_type": "code",
   "execution_count": 6,
   "metadata": {},
   "outputs": [],
   "source": [
    "#a. Use the functions from part 1 to create new columns for product type and length (if you were unable to\n",
    "#complete some parts of problem 1, just do what you can.)\n",
    "data[\"product_type\"] = data[\"four_letter_sequence\"].apply(get_product_type)\n",
    "data[\"length\"] = data[\"four_letter_sequence\"].apply(length_of_sequence)"
   ]
  },
  {
   "cell_type": "code",
   "execution_count": 7,
   "metadata": {},
   "outputs": [
    {
     "data": {
      "text/plain": [
       "mod RNA        64\n",
       "chimera        48\n",
       "vanilla RNA    48\n",
       "Name: product_type, dtype: int64"
      ]
     },
     "execution_count": 7,
     "metadata": {},
     "output_type": "execute_result"
    }
   ],
   "source": [
    "data[\"product_type\"].value_counts()"
   ]
  },
  {
   "cell_type": "code",
   "execution_count": 8,
   "metadata": {},
   "outputs": [
    {
     "data": {
      "text/plain": [
       "100    112\n",
       "36      48\n",
       "Name: length, dtype: int64"
      ]
     },
     "execution_count": 8,
     "metadata": {},
     "output_type": "execute_result"
    }
   ],
   "source": [
    "data[\"length\"].value_counts()"
   ]
  },
  {
   "cell_type": "code",
   "execution_count": 9,
   "metadata": {},
   "outputs": [],
   "source": [
    "#b. What seems to be affecting the pure yield? What other variables seem to be related to the pure yield (e.g.,\n",
    "#full length product, etc.)? Show any plots or descriptive statistics you use to explore this data and what\n",
    "#strategies were needed to clean the data."
   ]
  },
  {
   "cell_type": "code",
   "execution_count": 10,
   "metadata": {},
   "outputs": [
    {
     "data": {
      "text/plain": [
       "Index(['four_letter_sequence', 'synthesis_id', 'n-1', 'n+1', 'pure_yield',\n",
       "       'full_length_product', 'other_impurity', 'synthesis_duration',\n",
       "       'postprocessing_duration', 'product_type', 'length'],\n",
       "      dtype='object')"
      ]
     },
     "execution_count": 10,
     "metadata": {},
     "output_type": "execute_result"
    }
   ],
   "source": [
    "data.columns"
   ]
  },
  {
   "cell_type": "code",
   "execution_count": 11,
   "metadata": {},
   "outputs": [
    {
     "data": {
      "image/png": "[encoded data removed]",
      "text/plain": [
       "<Figure size 432x360 with 1 Axes>"
      ]
     },
     "metadata": {
      "needs_background": "light"
     },
     "output_type": "display_data"
    }
   ],
   "source": [
    "#synthesis_id on pure_yield\n",
    "data.boxplot(\"pure_yield\", by=\"synthesis_id\", figsize=(6, 5));"
   ]
  },
  {
   "cell_type": "code",
   "execution_count": 12,
   "metadata": {},
   "outputs": [
    {
     "data": {
      "text/plain": [
       "<matplotlib.axes._subplots.AxesSubplot at 0x7f3037ce77f0>"
      ]
     },
     "execution_count": 12,
     "metadata": {},
     "output_type": "execute_result"
    },
    {
     "data": {
      "image/png": "[encoded data removed]",
      "text/plain": [
       "<Figure size 432x360 with 1 Axes>"
      ]
     },
     "metadata": {
      "needs_background": "light"
     },
     "output_type": "display_data"
    }
   ],
   "source": [
    "#product_type vs pure_yield\n",
    "data.boxplot(\"pure_yield\", by=\"product_type\", figsize=(6, 5))"
   ]
  },
  {
   "cell_type": "code",
   "execution_count": 13,
   "metadata": {},
   "outputs": [
    {
     "name": "stdout",
     "output_type": "stream",
     "text": [
      "p-value between chimera and mod RNA:     0.31343459371374505\n",
      "p-value between chimera and vanilla RNA: 0.01350432733221776\n",
      "p-value between mod and vanilla RNA:     0.0016082556522800016\n"
     ]
    }
   ],
   "source": [
    "chimera = data[data[\"product_type\"] == \"chimera\"][\"pure_yield\"].dropna()\n",
    "mod = data[data[\"product_type\"] == \"mod RNA\"][\"pure_yield\"].dropna()\n",
    "vanilla = data[data[\"product_type\"] == \"vanilla RNA\"][\"pure_yield\"].dropna()\n",
    "t, p = ttest_ind(chimera, mod)\n",
    "print(\"p-value between chimera and mod RNA:     {}\".format(ttest_ind(chimera, mod)[1]))\n",
    "print(\"p-value between chimera and vanilla RNA: {}\".format(ttest_ind(chimera, vanilla)[1]))\n",
    "print(\"p-value between mod and vanilla RNA:     {}\".format(ttest_ind(mod, vanilla)[1]))"
   ]
  },
  {
   "cell_type": "code",
   "execution_count": 14,
   "metadata": {},
   "outputs": [
    {
     "data": {
      "text/plain": [
       "<matplotlib.axes._subplots.AxesSubplot at 0x7f3037c53a58>"
      ]
     },
     "execution_count": 14,
     "metadata": {},
     "output_type": "execute_result"
    },
    {
     "data": {
      "image/png": "[encoded data removed]",
      "text/plain": [
       "<Figure size 288x360 with 1 Axes>"
      ]
     },
     "metadata": {
      "needs_background": "light"
     },
     "output_type": "display_data"
    }
   ],
   "source": [
    "#length vs pure_yield\n",
    "data.boxplot(\"pure_yield\", by=\"length\", figsize=(4, 5))"
   ]
  },
  {
   "cell_type": "code",
   "execution_count": 15,
   "metadata": {},
   "outputs": [
    {
     "name": "stdout",
     "output_type": "stream",
     "text": [
      "p-value:  0.019513975923238207\n"
     ]
    }
   ],
   "source": [
    "l_36 = data[data[\"length\"] == 36][\"pure_yield\"].dropna()\n",
    "l_100 = data[data[\"length\"] == 100][\"pure_yield\"].dropna()\n",
    "print(\"p-value:  {}\".format(ttest_ind(l_36, l_100)[1]))"
   ]
  },
  {
   "cell_type": "code",
   "execution_count": 16,
   "metadata": {},
   "outputs": [],
   "source": [
    "#visulize the correlations between other numerical values"
   ]
  },
  {
   "cell_type": "code",
   "execution_count": 17,
   "metadata": {},
   "outputs": [
    {
     "data": {
      "text/plain": [
       "<matplotlib.axes._subplots.AxesSubplot at 0x7f3037b43ef0>"
      ]
     },
     "execution_count": 17,
     "metadata": {},
     "output_type": "execute_result"
    },
    {
     "data": {
      "image/png": "[encoded data removed]",
      "text/plain": [
       "<Figure size 864x576 with 6 Axes>"
      ]
     },
     "metadata": {
      "needs_background": "light"
     },
     "output_type": "display_data"
    }
   ],
   "source": [
    "fig, axes = plt.subplots(2, 3, figsize=(12, 8))\n",
    "data.plot(x=\"n-1\", y=\"pure_yield\", kind=\"scatter\", ax=axes[0, 0])\n",
    "data.plot(x=\"n+1\", y=\"pure_yield\", kind=\"scatter\", ax=axes[0, 1])\n",
    "data.plot(x=\"full_length_product\", y=\"pure_yield\", kind=\"scatter\", ax=axes[0, 2])\n",
    "data.plot(x=\"other_impurity\", y=\"pure_yield\", kind=\"scatter\", ax=axes[1, 0], logx=True)\n",
    "data.plot(x=\"synthesis_duration\", y=\"pure_yield\", kind=\"scatter\", ax=axes[1, 1])\n",
    "data.plot(x=\"postprocessing_duration\", y=\"pure_yield\", kind=\"scatter\", ax=axes[1, 2])"
   ]
  },
  {
   "cell_type": "code",
   "execution_count": 18,
   "metadata": {},
   "outputs": [
    {
     "data": {
      "text/plain": [
       "<matplotlib.axes._subplots.AxesSubplot at 0x7f3037be27f0>"
      ]
     },
     "execution_count": 18,
     "metadata": {},
     "output_type": "execute_result"
    },
    {
     "data": {
      "image/png": "[encoded data removed]",
      "text/plain": [
       "<Figure size 432x288 with 1 Axes>"
      ]
     },
     "metadata": {
      "needs_background": "light"
     },
     "output_type": "display_data"
    }
   ],
   "source": [
    "#distribution of synthesis_duration time\n",
    "data[\"synthesis_duration\"].plot.hist()"
   ]
  },
  {
   "cell_type": "code",
   "execution_count": 19,
   "metadata": {},
   "outputs": [
    {
     "name": "stdout",
     "output_type": "stream",
     "text": [
      "p-value:  0.019513975923238207\n"
     ]
    }
   ],
   "source": [
    "synthesis_short = data[data[\"synthesis_duration\"] < 40][\"pure_yield\"].dropna()\n",
    "synthesis_long = data[data[\"synthesis_duration\"] > 40][\"pure_yield\"].dropna()\n",
    "print(\"p-value:  {}\".format(ttest_ind(synthesis_short, synthesis_long)[1]))"
   ]
  },
  {
   "cell_type": "code",
   "execution_count": 20,
   "metadata": {},
   "outputs": [],
   "source": [
    "# Take home messages:\n",
    "# synthesis_id is important for pure_yield, some ids have higher pure yield\n",
    "# product_types are also correlated with pure_yield\n",
    "# length is also correlated with pure_yield\n",
    "# synthesis_duration is also important for pure_yield, short duration time leads to high pure yield."
   ]
  },
  {
   "cell_type": "code",
   "execution_count": 21,
   "metadata": {},
   "outputs": [],
   "source": [
    "import h2o\n",
    "from h2o.frame import H2OFrame\n",
    "from h2o.estimators import H2ORandomForestEstimator"
   ]
  },
  {
   "cell_type": "code",
   "execution_count": 22,
   "metadata": {},
   "outputs": [
    {
     "name": "stdout",
     "output_type": "stream",
     "text": [
      "Checking whether there is an H2O instance running at http://localhost:54321..... not found.\n",
      "Attempting to start a local H2O server...\n",
      "  Java Version: openjdk version \"1.8.0_152-release\"; OpenJDK Runtime Environment (build 1.8.0_152-release-1056-b12); OpenJDK 64-Bit Server VM (build 25.152-b12, mixed mode)\n",
      "  Starting server from /home/sheldon/anaconda3/h2o_jar/h2o.jar\n",
      "  Ice root: /tmp/tmp3n27z7ck\n",
      "  JVM stdout: /tmp/tmp3n27z7ck/h2o_sheldon_started_from_python.out\n",
      "  JVM stderr: /tmp/tmp3n27z7ck/h2o_sheldon_started_from_python.err\n",
      "  Server is running at http://127.0.0.1:54321\n",
      "Connecting to H2O server at http://127.0.0.1:54321... successful.\n",
      "Warning: Your H2O cluster version is too old (8 months and 22 days)! Please download and install the latest version from http://h2o.ai/download/\n"
     ]
    },
    {
     "data": {
      "text/html": [
       "<div style=\"overflow:auto\"><table style=\"width:50%\"><tr><td>H2O cluster uptime:</td>\n",
       "<td>02 secs</td></tr>\n",
       "<tr><td>H2O cluster timezone:</td>\n",
       "<td>America/New_York</td></tr>\n",
       "<tr><td>H2O data parsing timezone:</td>\n",
       "<td>UTC</td></tr>\n",
       "<tr><td>H2O cluster version:</td>\n",
       "<td>3.18.0.2</td></tr>\n",
       "<tr><td>H2O cluster version age:</td>\n",
       "<td>8 months and 22 days !!!</td></tr>\n",
       "<tr><td>H2O cluster name:</td>\n",
       "<td>H2O_from_python_sheldon_2cru8t</td></tr>\n",
       "<tr><td>H2O cluster total nodes:</td>\n",
       "<td>1</td></tr>\n",
       "<tr><td>H2O cluster free memory:</td>\n",
       "<td>3.455 Gb</td></tr>\n",
       "<tr><td>H2O cluster total cores:</td>\n",
       "<td>8</td></tr>\n",
       "<tr><td>H2O cluster allowed cores:</td>\n",
       "<td>8</td></tr>\n",
       "<tr><td>H2O cluster status:</td>\n",
       "<td>accepting new members, healthy</td></tr>\n",
       "<tr><td>H2O connection url:</td>\n",
       "<td>http://127.0.0.1:54321</td></tr>\n",
       "<tr><td>H2O connection proxy:</td>\n",
       "<td>None</td></tr>\n",
       "<tr><td>H2O internal security:</td>\n",
       "<td>False</td></tr>\n",
       "<tr><td>H2O API Extensions:</td>\n",
       "<td>XGBoost, Algos, AutoML, Core V3, Core V4</td></tr>\n",
       "<tr><td>Python version:</td>\n",
       "<td>3.6.6 final</td></tr></table></div>"
      ],
      "text/plain": [
       "--------------------------  ----------------------------------------\n",
       "H2O cluster uptime:         02 secs\n",
       "H2O cluster timezone:       America/New_York\n",
       "H2O data parsing timezone:  UTC\n",
       "H2O cluster version:        3.18.0.2\n",
       "H2O cluster version age:    8 months and 22 days !!!\n",
       "H2O cluster name:           H2O_from_python_sheldon_2cru8t\n",
       "H2O cluster total nodes:    1\n",
       "H2O cluster free memory:    3.455 Gb\n",
       "H2O cluster total cores:    8\n",
       "H2O cluster allowed cores:  8\n",
       "H2O cluster status:         accepting new members, healthy\n",
       "H2O connection url:         http://127.0.0.1:54321\n",
       "H2O connection proxy:\n",
       "H2O internal security:      False\n",
       "H2O API Extensions:         XGBoost, Algos, AutoML, Core V3, Core V4\n",
       "Python version:             3.6.6 final\n",
       "--------------------------  ----------------------------------------"
      ]
     },
     "metadata": {},
     "output_type": "display_data"
    }
   ],
   "source": [
    "h2o.init()"
   ]
  },
  {
   "cell_type": "code",
   "execution_count": 23,
   "metadata": {},
   "outputs": [
    {
     "data": {
      "text/plain": [
       "Index(['four_letter_sequence', 'synthesis_id', 'n-1', 'n+1', 'pure_yield',\n",
       "       'full_length_product', 'other_impurity', 'synthesis_duration',\n",
       "       'postprocessing_duration', 'product_type', 'length'],\n",
       "      dtype='object')"
      ]
     },
     "execution_count": 23,
     "metadata": {},
     "output_type": "execute_result"
    }
   ],
   "source": [
    "data.columns"
   ]
  },
  {
   "cell_type": "code",
   "execution_count": 24,
   "metadata": {},
   "outputs": [
    {
     "name": "stderr",
     "output_type": "stream",
     "text": [
      "/home/sheldon/anaconda3/lib/python3.6/site-packages/h2o/utils/shared_utils.py:170: FutureWarning: Method .as_matrix will be removed in a future version. Use .values instead.\n",
      "  data = _handle_python_lists(python_obj.as_matrix().tolist(), -1)[1]\n"
     ]
    },
    {
     "name": "stdout",
     "output_type": "stream",
     "text": [
      "Parse progress: |█████████████████████████████████████████████████████████| 100%\n"
     ]
    }
   ],
   "source": [
    "h2o_data = H2OFrame(data)"
   ]
  },
  {
   "cell_type": "code",
   "execution_count": 25,
   "metadata": {},
   "outputs": [],
   "source": [
    "h2o_data[\"synthesis_id\"] = h2o_data[\"synthesis_id\"].asfactor()\n",
    "#h2o_data[\"synthesis_duration\"] = (h2o_data[\"synthesis_duration\"] < 40).asfactor()\n",
    "#h2o_data[\"length\"] = (h2o_data[\"length\"] == 36).asfactor()"
   ]
  },
  {
   "cell_type": "code",
   "execution_count": 26,
   "metadata": {},
   "outputs": [
    {
     "data": {
      "text/html": [
       "<table>\n",
       "<thead>\n",
       "<tr><th>       </th><th>four_letter_sequence                                                                                                                                                                                                                                                                                                                                                                                           </th><th>synthesis_id  </th><th>n-1               </th><th>n+1               </th><th>pure_yield          </th><th>full_length_product  </th><th>other_impurity      </th><th>synthesis_duration  </th><th>postprocessing_duration  </th><th>product_type  </th><th>length           </th></tr>\n",
       "</thead>\n",
       "<tbody>\n",
       "<tr><td>type   </td><td>enum                                                                                                                                                                                                                                                                                                                                                                                                           </td><td>enum          </td><td>real              </td><td>real              </td><td>real                </td><td>real                 </td><td>real                </td><td>real                </td><td>real                     </td><td>enum          </td><td>int              </td></tr>\n",
       "<tr><td>mins   </td><td>                                                                                                                                                                                                                                                                                                                                                                                                               </td><td>              </td><td>1.1656927380849775</td><td>1.5110867042344756</td><td>-0.11742580164803045</td><td>28.57795306407977    </td><td>0.0                 </td><td>12.239413           </td><td>0.0131435                </td><td>              </td><td>36.0             </td></tr>\n",
       "<tr><td>mean   </td><td>                                                                                                                                                                                                                                                                                                                                                                                                               </td><td>              </td><td>4.870790326398085 </td><td>7.275583693427041 </td><td>6.9115012299942915  </td><td>76.12434446323078    </td><td>0.05298092176279329 </td><td>42.41193445666353   </td><td>59.891161126015845       </td><td>              </td><td>80.80000000000001</td></tr>\n",
       "<tr><td>maxs   </td><td>                                                                                                                                                                                                                                                                                                                                                                                                               </td><td>              </td><td>12.825024838253494</td><td>19.54017285264413 </td><td>15.046220954862296  </td><td>90.26048345517592    </td><td>0.6992047443893575  </td><td>61.546239446073656  </td><td>108.42159720976424       </td><td>              </td><td>100.0            </td></tr>\n",
       "<tr><td>sigma  </td><td>                                                                                                                                                                                                                                                                                                                                                                                                               </td><td>              </td><td>2.396764845736352 </td><td>3.0013166242824543</td><td>3.9765758567692693  </td><td>7.897568395670132    </td><td>0.1288376102226953  </td><td>18.847793003782325  </td><td>27.247650344080927       </td><td>              </td><td>29.42056782797971</td></tr>\n",
       "<tr><td>zeros  </td><td>                                                                                                                                                                                                                                                                                                                                                                                                               </td><td>              </td><td>0                 </td><td>0                 </td><td>0                   </td><td>0                    </td><td>60                  </td><td>0                   </td><td>0                        </td><td>              </td><td>0                </td></tr>\n",
       "<tr><td>missing</td><td>0                                                                                                                                                                                                                                                                                                                                                                                                              </td><td>0             </td><td>34                </td><td>34                </td><td>16                  </td><td>32                   </td><td>32                  </td><td>0                   </td><td>0                        </td><td>0             </td><td>0                </td></tr>\n",
       "<tr><td>0      </td><td>-Gms-Ums-Cms-Gro-Cro-Uro-Cro-Cro-Cro-Cro-Gro-Gro-Cro-Aro-Uro-Cro-Gro-Gro-Cro-Uro-Gro-Uro-Uro-Uro-Uro-Aro-Gro-Aro-Gro-Cro-Uro-Aro-Gro-Aro-Aro-Aro-Uro-Aro-Gro-Cro-Aro-Aro-Gro-Uro-Uro-Aro-Aro-Aro-Aro-Uro-Aro-Aro-Gro-Gro-Cro-Uro-Aro-Gro-Uro-Cro-Cro-Gro-Uro-Uro-Aro-Uro-Cro-Aro-Aro-Cro-Uro-Uro-Gro-Aro-Aro-Aro-Aro-Aro-Gro-Uro-Gro-Gro-Cro-Aro-Cro-Cro-Gro-Aro-Gro-Uro-Cro-Gro-Gro-Uro-Gro-Cro-Uro-Ums-Ums-Um</td><td>1             </td><td>4.797640248115722 </td><td>6.38192879999897  </td><td>8.795529263072389   </td><td>74.55368478865601    </td><td>0.021143241089251277</td><td>55.65436943859153   </td><td>35.75576136234773        </td><td>mod RNA       </td><td>100.0            </td></tr>\n",
       "<tr><td>1      </td><td>-Ums-Cms-Ams-Gro-Gro-Cro-Cro-Gro-Cro-Aro-Gro-Gro-Aro-Aro-Gro-Aro-Gro-Gro-Aro-Aro-Gro-Uro-Uro-Uro-Uro-Aro-Gro-Aro-Gro-Cro-Uro-Aro-Gro-Aro-Aro-Aro-Uro-Aro-Gro-Cro-Aro-Aro-Gro-Uro-Uro-Aro-Aro-Aro-Aro-Uro-Aro-Aro-Gro-Gro-Cro-Uro-Aro-Gro-Uro-Cro-Cro-Gro-Uro-Uro-Aro-Uro-Cro-Aro-Aro-Cro-Uro-Uro-Gro-Aro-Aro-Aro-Aro-Aro-Gro-Uro-Gro-Gro-Cro-Aro-Cro-Cro-Gro-Aro-Gro-Uro-Cro-Gro-Gro-Uro-Gro-Cro-Uro-Ums-Ums-Um</td><td>1             </td><td>8.056742643533934 </td><td>8.434806962390747 </td><td>6.089591814019787   </td><td>74.96352511216574    </td><td>0.053351872084340515</td><td>55.65436943859153   </td><td>35.75576136234773        </td><td>mod RNA       </td><td>100.0            </td></tr>\n",
       "<tr><td>2      </td><td>-Gms-Ums-Ams-Uro-Aro-Uro-Aro-Gro-Aro-Uro-Gro-Aro-Aro-Gro-Gro-Uro-Cro-Aro-Cro-Uro-Gro-Uro-Uro-Uro-Uro-Aro-Gro-Aro-Gro-Cro-Uro-Aro-Gro-Aro-Aro-Aro-Uro-Aro-Gro-Cro-Aro-Aro-Gro-Uro-Uro-Aro-Aro-Aro-Aro-Uro-Aro-Aro-Gro-Gro-Cro-Uro-Aro-Gro-Uro-Cro-Cro-Gro-Uro-Uro-Aro-Uro-Cro-Aro-Aro-Cro-Uro-Uro-Gro-Aro-Aro-Aro-Aro-Aro-Gro-Uro-Gro-Gro-Cro-Aro-Cro-Cro-Gro-Aro-Gro-Uro-Cro-Gro-Gro-Uro-Gro-Cro-Uro-Ums-Ums-Um</td><td>1             </td><td>5.376105268294187 </td><td>10.04219383680772 </td><td>9.068502490996169   </td><td>73.16919310915749    </td><td>0.0                 </td><td>55.65436943859153   </td><td>35.75576136234773        </td><td>mod RNA       </td><td>100.0            </td></tr>\n",
       "<tr><td>3      </td><td>-Cms-Ums-Cms-Cro-Cro-Uro-Cro-Cro-Cro-Aro-Gro-Gro-Aro-Uro-Cro-Cro-Uro-Cro-Uro-Cro-Gro-Uro-Uro-Uro-Uro-Aro-Gro-Aro-Gro-Cro-Uro-Aro-Gro-Aro-Aro-Aro-Uro-Aro-Gro-Cro-Aro-Aro-Gro-Uro-Uro-Aro-Aro-Aro-Aro-Uro-Aro-Aro-Gro-Gro-Cro-Uro-Aro-Gro-Uro-Cro-Cro-Gro-Uro-Uro-Aro-Uro-Cro-Aro-Aro-Cro-Uro-Uro-Gro-Aro-Aro-Aro-Aro-Aro-Gro-Uro-Gro-Gro-Cro-Aro-Cro-Cro-Gro-Aro-Gro-Uro-Cro-Gro-Gro-Uro-Gro-Cro-Uro-Ums-Ums-Um</td><td>1             </td><td>1.932083653985164 </td><td>10.383295080786532</td><td>4.258048929602101   </td><td>73.05378521882169    </td><td>0.0                 </td><td>55.65436943859153   </td><td>35.75576136234773        </td><td>mod RNA       </td><td>100.0            </td></tr>\n",
       "<tr><td>4      </td><td>-Cms-Ums-Cms-Cro-Cro-Uro-Cro-Cro-Cro-Aro-Gro-Gro-Aro-Uro-Cro-Cro-Uro-Cro-Uro-Cro-Gro-Uro-Uro-Uro-Uro-Aro-Gro-Aro-Gro-Cro-Uro-Aro-Gro-Aro-Aro-Aro-Uro-Aro-Gro-Cro-Aro-Aro-Gro-Uro-Uro-Aro-Aro-Aro-Aro-Uro-Aro-Aro-Gro-Gro-Cro-Uro-Aro-Gro-Uro-Cro-Cro-Gro-Uro-Uro-Aro-Uro-Cro-Aro-Aro-Cro-Uro-Uro-Gro-Aro-Aro-Aro-Aro-Aro-Gro-Uro-Gro-Gro-Cro-Aro-Cro-Cro-Gro-Aro-Gro-Uro-Cro-Gro-Gro-Uro-Gro-Cro-Uro-Ums-Ums-Um</td><td>1             </td><td>7.064074170308597 </td><td>4.8992952275720505</td><td>9.150096404816358   </td><td>77.12886228572188    </td><td>0.0                 </td><td>55.65436943859153   </td><td>35.75576136234773        </td><td>mod RNA       </td><td>100.0            </td></tr>\n",
       "<tr><td>5      </td><td>-Cms-Cms-Ums-Cro-Uro-Uro-Gro-Uro-Uro-Gro-Cro-Uro-Gro-Cro-Uro-Gro-Cro-Cro-Cro-Gro-Gro-Uro-Uro-Uro-Uro-Aro-Gro-Aro-Gro-Cro-Uro-Aro-Gro-Aro-Aro-Aro-Uro-Aro-Gro-Cro-Aro-Aro-Gro-Uro-Uro-Aro-Aro-Aro-Aro-Uro-Aro-Aro-Gro-Gro-Cro-Uro-Aro-Gro-Uro-Cro-Cro-Gro-Uro-Uro-Aro-Uro-Cro-Aro-Aro-Cro-Uro-Uro-Gro-Aro-Aro-Aro-Aro-Aro-Gro-Uro-Gro-Gro-Cro-Aro-Cro-Cro-Gro-Aro-Gro-Uro-Cro-Gro-Gro-Uro-Gro-Cro-Uro-Ums-Ums-Um</td><td>1             </td><td>8.796217339535243 </td><td>8.011002609995531 </td><td>6.040561579470544   </td><td>68.89546589032504    </td><td>0.01919867789101131 </td><td>55.65436943859153   </td><td>35.75576136234773        </td><td>mod RNA       </td><td>100.0            </td></tr>\n",
       "<tr><td>6      </td><td>-Gms-Ums-Cms-Gro-Cro-Uro-Cro-Cro-Cro-Cro-Gro-Gro-Cro-Aro-Uro-Cro-Gro-Gro-Cro-Uro-Gro-Uro-Uro-Uro-Uro-Aro-Gro-Aro-Gro-Cro-Uro-Aro-Gro-Aro-Aro-Aro-Uro-Aro-Gro-Cro-Aro-Aro-Gro-Uro-Uro-Aro-Aro-Aro-Aro-Uro-Aro-Aro-Gro-Gro-Cro-Uro-Aro-Gro-Uro-Cro-Cro-Gro-Uro-Uro-Aro-Uro-Cro-Aro-Aro-Cro-Uro-Uro-Gro-Aro-Aro-Aro-Aro-Aro-Gro-Uro-Gro-Gro-Cro-Aro-Cro-Cro-Gro-Aro-Gro-Uro-Cro-Gro-Gro-Uro-Gro-Cro-Uro-Ums-Ums-Um</td><td>1             </td><td>4.0875738930301155</td><td>7.529499777994365 </td><td>6.763971356244729   </td><td>76.20872971938817    </td><td>0.0                 </td><td>55.65436943859153   </td><td>35.75576136234773        </td><td>mod RNA       </td><td>100.0            </td></tr>\n",
       "<tr><td>7      </td><td>-Gms-Ums-Cms-Gro-Cro-Uro-Cro-Cro-Cro-Cro-Gro-Gro-Cro-Aro-Uro-Cro-Gro-Gro-Cro-Uro-Gro-Uro-Uro-Uro-Uro-Aro-Gro-Aro-Gro-Cro-Uro-Aro-Gro-Aro-Aro-Aro-Uro-Aro-Gro-Cro-Aro-Aro-Gro-Uro-Uro-Aro-Aro-Aro-Aro-Uro-Aro-Aro-Gro-Gro-Cro-Uro-Aro-Gro-Uro-Cro-Cro-Gro-Uro-Uro-Aro-Uro-Cro-Aro-Aro-Cro-Uro-Uro-Gro-Aro-Aro-Aro-Aro-Aro-Gro-Uro-Gro-Gro-Cro-Aro-Cro-Cro-Gro-Aro-Gro-Uro-Cro-Gro-Gro-Uro-Gro-Cro-Uro-Ums-Ums-Um</td><td>1             </td><td>6.234035956516311 </td><td>10.183310240598724</td><td>8.888735147859306   </td><td>73.31179016942167    </td><td>0.0                 </td><td>55.65436943859153   </td><td>35.75576136234773        </td><td>mod RNA       </td><td>100.0            </td></tr>\n",
       "<tr><td>8      </td><td>-Ums-Cms-Ams-Gro-Gro-Cro-Cro-Gro-Cro-Aro-Gro-Gro-Aro-Aro-Gro-Aro-Gro-Gro-Aro-Aro-Gro-Uro-Uro-Uro-Uro-Aro-Gro-Aro-Gro-Cro-Uro-Aro-Gro-Aro-Aro-Aro-Uro-Aro-Gro-Cro-Aro-Aro-Gro-Uro-Uro-Aro-Aro-Aro-Aro-Uro-Aro-Aro-Gro-Gro-Cro-Uro-Aro-Gro-Uro-Cro-Cro-Gro-Uro-Uro-Aro-Uro-Cro-Aro-Aro-Cro-Uro-Uro-Gro-Aro-Aro-Aro-Aro-Aro-Gro-Uro-Gro-Gro-Cro-Aro-Cro-Cro-Gro-Aro-Gro-Uro-Cro-Gro-Gro-Uro-Gro-Cro-Uro-Ums-Ums-Um</td><td>1             </td><td>8.006152936024566 </td><td>2.900777092951629 </td><td>6.546427667402635   </td><td>75.69665015086477    </td><td>0.0                 </td><td>55.65436943859153   </td><td>35.75576136234773        </td><td>mod RNA       </td><td>100.0            </td></tr>\n",
       "<tr><td>9      </td><td>-Ums-Gms-Ams-Aro-Gro-Uro-Gro-Uro-Uro-Aro-Gro-Gro-Aro-Gro-Aro-Uro-Aro-Cro-Aro-Uro-Gro-Uro-Uro-Uro-Uro-Aro-Gro-Aro-Gro-Cro-Uro-Aro-Gro-Aro-Aro-Aro-Uro-Aro-Gro-Cro-Aro-Aro-Gro-Uro-Uro-Aro-Aro-Aro-Aro-Uro-Aro-Aro-Gro-Gro-Cro-Uro-Aro-Gro-Uro-Cro-Cro-Gro-Uro-Uro-Aro-Uro-Cro-Aro-Aro-Cro-Uro-Uro-Gro-Aro-Aro-Aro-Aro-Aro-Gro-Uro-Gro-Gro-Cro-Aro-Cro-Cro-Gro-Aro-Gro-Uro-Cro-Gro-Gro-Uro-Gro-Cro-Uro-Ums-Ums-Um</td><td>1             </td><td>3.5323887820026885</td><td>4.658121590762711 </td><td>4.917384525378608   </td><td>79.68372704045484    </td><td>0.008688938269293973</td><td>55.65436943859153   </td><td>35.75576136234773        </td><td>mod RNA       </td><td>100.0            </td></tr>\n",
       "</tbody>\n",
       "</table>"
      ]
     },
     "metadata": {},
     "output_type": "display_data"
    }
   ],
   "source": [
    "h2o_data.summary()"
   ]
  },
  {
   "cell_type": "code",
   "execution_count": 27,
   "metadata": {},
   "outputs": [],
   "source": [
    "training_columns = h2o_data.columns\n",
    "training_columns.remove(\"four_letter_sequence\")\n",
    "training_columns.remove(\"pure_yield\")\n",
    "response_column = \"pure_yield\""
   ]
  },
  {
   "cell_type": "code",
   "execution_count": 28,
   "metadata": {},
   "outputs": [
    {
     "name": "stdout",
     "output_type": "stream",
     "text": [
      "drf Model Build progress: |███████████████████████████████████████████████| 100%\n"
     ]
    }
   ],
   "source": [
    "# Define model\n",
    "model = H2ORandomForestEstimator(ntrees=100, max_depth=20, nfolds=3)\n",
    "\n",
    "# Train model\n",
    "model.train(x=training_columns, y=response_column, training_frame=h2o_data)"
   ]
  },
  {
   "cell_type": "code",
   "execution_count": 29,
   "metadata": {},
   "outputs": [
    {
     "name": "stdout",
     "output_type": "stream",
     "text": [
      "\n",
      "ModelMetricsRegression: drf\n",
      "** Reported on test data. **\n",
      "\n",
      "MSE: 0.5383797711203483\n",
      "RMSE: 0.7337436685385083\n",
      "MAE: 0.5613588492955182\n",
      "RMSLE: 0.12298945006663659\n",
      "Mean Residual Deviance: 0.5383797711203483\n",
      "\n"
     ]
    }
   ],
   "source": [
    "performance = model.model_performance(test_data=h2o_data)\n",
    "print (performance)"
   ]
  },
  {
   "cell_type": "code",
   "execution_count": 30,
   "metadata": {},
   "outputs": [
    {
     "name": "stdout",
     "output_type": "stream",
     "text": [
      "              variable  relative_importance  scaled_importance  percentage\n",
      "0         synthesis_id         70582.484375           1.000000    0.289817\n",
      "1  full_length_product         58895.402344           0.834420    0.241829\n",
      "2                  n+1         39763.132812           0.563357    0.163271\n",
      "3                  n-1         23587.734375           0.334187    0.096853\n",
      "4   synthesis_duration         13922.513672           0.197252    0.057167\n"
     ]
    },
    {
     "data": {
      "image/png": "[encoded data removed]",
      "text/plain": [
       "<Figure size 288x576 with 1 Axes>"
      ]
     },
     "metadata": {
      "needs_background": "light"
     },
     "output_type": "display_data"
    }
   ],
   "source": [
    "#get feature importance from model\n",
    "feature_importance = model.varimp(use_pandas=True)\n",
    "print(feature_importance.head())\n",
    "\n",
    "feature_importance.plot.barh(x=\"variable\", y=\"percentage\", figsize=(4, 8), legend=False)\n",
    "sns.despine()\n",
    "plt.xticks(size=12, rotation=-45)\n",
    "plt.yticks(size=12);"
   ]
  },
  {
   "cell_type": "code",
   "execution_count": null,
   "metadata": {},
   "outputs": [],
   "source": []
  }
 ],
 "metadata": {
  "kernelspec": {
   "display_name": "Python 3",
   "language": "python",
   "name": "python3"
  },
  "language_info": {
   "codemirror_mode": {
    "name": "ipython",
    "version": 3
   },
   "file_extension": ".py",
   "mimetype": "text/x-python",
   "name": "python",
   "nbconvert_exporter": "python",
   "pygments_lexer": "ipython3",
   "version": "3.6.6"
  }
 },
 "nbformat": 4,
 "nbformat_minor": 2
}
