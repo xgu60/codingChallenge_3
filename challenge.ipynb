{
 "cells": [
  {
   "cell_type": "code",
   "execution_count": 26,
   "metadata": {},
   "outputs": [],
   "source": [
    "def isValid(stringOfSequence):\n",
    "    for i in range(len(stringOfSequence)):\n",
    "        if i % 4 == 1 and stringOfSequence[i] not in [\"A\", \"T\", \"G\", \"C\", \"U\"]:\n",
    "            return False\n",
    "        if i % 4 == 2 and stringOfSequence[i] not in [\"r\", \"d\", \"m\"]:\n",
    "            return False\n",
    "        if i % 4 == 3 and stringOfSequence[i] not in [\"o\", \"s\"]:\n",
    "            return False\n",
    "    return True\n",
    "\n",
    "def lengthOfSequence(stringOfSequence):\n",
    "    if not isValid(stringOfSequence):\n",
    "        return -1\n",
    "    return len(stringOfSequence) // 4 + 1 \n",
    "\n",
    "def getProductTypes(stringOfSequence):\n",
    "    if not isValid(stringOfSequence):\n",
    "        return -1\n",
    "    myset = set()\n",
    "    for i in range(2, len(stringOfSequence), 4):\n",
    "        myset.add(stringOfSequence[i])\n",
    "        if stringOfSequence[i] == 'm':\n",
    "            if i + 1 < len(stringOfSequence) and stringOfSequence[i + 1] != 's':\n",
    "                return -1\n",
    "    if len(myset) == 1 and list(myset)[0] == 'r':\n",
    "        return \"vanilla RNA\"\n",
    "    if len(myset) == 2:\n",
    "        if 'd' in myset and 'r' in myset:\n",
    "            return \"chimera\"\n",
    "        if 'm' in myset and 'r' in myset:\n",
    "            return \"mod RNA\"\n",
    "    return -1\n"
   ]
  },
  {
   "cell_type": "code",
   "execution_count": 42,
   "metadata": {},
   "outputs": [],
   "source": [
    "import pandas as pd\n",
    "import numpy as np\n",
    "import matplotlib.pyplot as plt\n",
    "%matplotlib inline"
   ]
  },
  {
   "cell_type": "code",
   "execution_count": 27,
   "metadata": {},
   "outputs": [],
   "source": [
    "data = pd.read_csv(\"synthesis_data.csv\")"
   ]
  },
  {
   "cell_type": "code",
   "execution_count": 28,
   "metadata": {},
   "outputs": [
    {
     "data": {
      "text/html": [
       "<div>\n",
       "<style scoped>\n",
       "    .dataframe tbody tr th:only-of-type {\n",
       "        vertical-align: middle;\n",
       "    }\n",
       "\n",
       "    .dataframe tbody tr th {\n",
       "        vertical-align: top;\n",
       "    }\n",
       "\n",
       "    .dataframe thead th {\n",
       "        text-align: right;\n",
       "    }\n",
       "</style>\n",
       "<table border=\"1\" class=\"dataframe\">\n",
       "  <thead>\n",
       "    <tr style=\"text-align: right;\">\n",
       "      <th></th>\n",
       "      <th>four_letter_sequence</th>\n",
       "      <th>synthesis_id</th>\n",
       "      <th>n-1</th>\n",
       "      <th>n+1</th>\n",
       "      <th>pure_yield</th>\n",
       "      <th>full_length_product</th>\n",
       "      <th>other_impurity</th>\n",
       "      <th>synthesis_duration</th>\n",
       "      <th>postprocessing_duration</th>\n",
       "    </tr>\n",
       "  </thead>\n",
       "  <tbody>\n",
       "    <tr>\n",
       "      <th>0</th>\n",
       "      <td>-Gms-Ums-Cms-Gro-Cro-Uro-Cro-Cro-Cro-Cro-Gro-G...</td>\n",
       "      <td>1</td>\n",
       "      <td>4.797640</td>\n",
       "      <td>6.381929</td>\n",
       "      <td>8.795529</td>\n",
       "      <td>74.553685</td>\n",
       "      <td>0.021143</td>\n",
       "      <td>55.654369</td>\n",
       "      <td>35.755761</td>\n",
       "    </tr>\n",
       "    <tr>\n",
       "      <th>1</th>\n",
       "      <td>-Ums-Cms-Ams-Gro-Gro-Cro-Cro-Gro-Cro-Aro-Gro-G...</td>\n",
       "      <td>1</td>\n",
       "      <td>8.056743</td>\n",
       "      <td>8.434807</td>\n",
       "      <td>6.089592</td>\n",
       "      <td>74.963525</td>\n",
       "      <td>0.053352</td>\n",
       "      <td>55.654369</td>\n",
       "      <td>35.755761</td>\n",
       "    </tr>\n",
       "    <tr>\n",
       "      <th>2</th>\n",
       "      <td>-Gms-Ums-Ams-Uro-Aro-Uro-Aro-Gro-Aro-Uro-Gro-A...</td>\n",
       "      <td>1</td>\n",
       "      <td>5.376105</td>\n",
       "      <td>10.042194</td>\n",
       "      <td>9.068502</td>\n",
       "      <td>73.169193</td>\n",
       "      <td>0.000000</td>\n",
       "      <td>55.654369</td>\n",
       "      <td>35.755761</td>\n",
       "    </tr>\n",
       "    <tr>\n",
       "      <th>3</th>\n",
       "      <td>-Cms-Ums-Cms-Cro-Cro-Uro-Cro-Cro-Cro-Aro-Gro-G...</td>\n",
       "      <td>1</td>\n",
       "      <td>1.932084</td>\n",
       "      <td>10.383295</td>\n",
       "      <td>4.258049</td>\n",
       "      <td>73.053785</td>\n",
       "      <td>0.000000</td>\n",
       "      <td>55.654369</td>\n",
       "      <td>35.755761</td>\n",
       "    </tr>\n",
       "    <tr>\n",
       "      <th>4</th>\n",
       "      <td>-Cms-Ums-Cms-Cro-Cro-Uro-Cro-Cro-Cro-Aro-Gro-G...</td>\n",
       "      <td>1</td>\n",
       "      <td>7.064074</td>\n",
       "      <td>4.899295</td>\n",
       "      <td>9.150096</td>\n",
       "      <td>77.128862</td>\n",
       "      <td>0.000000</td>\n",
       "      <td>55.654369</td>\n",
       "      <td>35.755761</td>\n",
       "    </tr>\n",
       "  </tbody>\n",
       "</table>\n",
       "</div>"
      ],
      "text/plain": [
       "                                four_letter_sequence  synthesis_id       n-1  \\\n",
       "0  -Gms-Ums-Cms-Gro-Cro-Uro-Cro-Cro-Cro-Cro-Gro-G...             1  4.797640   \n",
       "1  -Ums-Cms-Ams-Gro-Gro-Cro-Cro-Gro-Cro-Aro-Gro-G...             1  8.056743   \n",
       "2  -Gms-Ums-Ams-Uro-Aro-Uro-Aro-Gro-Aro-Uro-Gro-A...             1  5.376105   \n",
       "3  -Cms-Ums-Cms-Cro-Cro-Uro-Cro-Cro-Cro-Aro-Gro-G...             1  1.932084   \n",
       "4  -Cms-Ums-Cms-Cro-Cro-Uro-Cro-Cro-Cro-Aro-Gro-G...             1  7.064074   \n",
       "\n",
       "         n+1  pure_yield  full_length_product  other_impurity  \\\n",
       "0   6.381929    8.795529            74.553685        0.021143   \n",
       "1   8.434807    6.089592            74.963525        0.053352   \n",
       "2  10.042194    9.068502            73.169193        0.000000   \n",
       "3  10.383295    4.258049            73.053785        0.000000   \n",
       "4   4.899295    9.150096            77.128862        0.000000   \n",
       "\n",
       "   synthesis_duration  postprocessing_duration  \n",
       "0           55.654369                35.755761  \n",
       "1           55.654369                35.755761  \n",
       "2           55.654369                35.755761  \n",
       "3           55.654369                35.755761  \n",
       "4           55.654369                35.755761  "
      ]
     },
     "execution_count": 28,
     "metadata": {},
     "output_type": "execute_result"
    }
   ],
   "source": [
    "data.head()"
   ]
  },
  {
   "cell_type": "code",
   "execution_count": 29,
   "metadata": {},
   "outputs": [
    {
     "name": "stdout",
     "output_type": "stream",
     "text": [
      "the shape of data:(160, 9)\n",
      "check null values\n",
      "four_letter_sequence        0\n",
      "synthesis_id                0\n",
      "n-1                        34\n",
      "n+1                        34\n",
      "pure_yield                 16\n",
      "full_length_product        32\n",
      "other_impurity             32\n",
      "synthesis_duration          0\n",
      "postprocessing_duration     0\n",
      "dtype: int64\n"
     ]
    }
   ],
   "source": [
    "print(\"the shape of data:{}\".format(data.shape))\n",
    "print(\"check null values\")\n",
    "print(data.isnull().sum())"
   ]
  },
  {
   "cell_type": "code",
   "execution_count": 33,
   "metadata": {},
   "outputs": [],
   "source": [
    "#a. Use the functions from part 1 to create new columns for product type and length (if you were unable to\n",
    "#complete some parts of problem 1, just do what you can.)\n",
    "data[\"product_type\"] = data[\"four_letter_sequence\"].apply(getProductTypes)\n",
    "data[\"length\"] = data[\"four_letter_sequence\"].apply(lengthOfSequence)"
   ]
  },
  {
   "cell_type": "code",
   "execution_count": 36,
   "metadata": {},
   "outputs": [
    {
     "data": {
      "text/html": [
       "<div>\n",
       "<style scoped>\n",
       "    .dataframe tbody tr th:only-of-type {\n",
       "        vertical-align: middle;\n",
       "    }\n",
       "\n",
       "    .dataframe tbody tr th {\n",
       "        vertical-align: top;\n",
       "    }\n",
       "\n",
       "    .dataframe thead th {\n",
       "        text-align: right;\n",
       "    }\n",
       "</style>\n",
       "<table border=\"1\" class=\"dataframe\">\n",
       "  <thead>\n",
       "    <tr style=\"text-align: right;\">\n",
       "      <th></th>\n",
       "      <th>four_letter_sequence</th>\n",
       "      <th>synthesis_id</th>\n",
       "      <th>n-1</th>\n",
       "      <th>n+1</th>\n",
       "      <th>pure_yield</th>\n",
       "      <th>full_length_product</th>\n",
       "      <th>other_impurity</th>\n",
       "      <th>synthesis_duration</th>\n",
       "      <th>postprocessing_duration</th>\n",
       "      <th>product_type</th>\n",
       "      <th>length</th>\n",
       "    </tr>\n",
       "  </thead>\n",
       "  <tbody>\n",
       "    <tr>\n",
       "      <th>0</th>\n",
       "      <td>-Gms-Ums-Cms-Gro-Cro-Uro-Cro-Cro-Cro-Cro-Gro-G...</td>\n",
       "      <td>1</td>\n",
       "      <td>4.797640</td>\n",
       "      <td>6.381929</td>\n",
       "      <td>8.795529</td>\n",
       "      <td>74.553685</td>\n",
       "      <td>0.021143</td>\n",
       "      <td>55.654369</td>\n",
       "      <td>35.755761</td>\n",
       "      <td>mod RNA</td>\n",
       "      <td>100</td>\n",
       "    </tr>\n",
       "    <tr>\n",
       "      <th>1</th>\n",
       "      <td>-Ums-Cms-Ams-Gro-Gro-Cro-Cro-Gro-Cro-Aro-Gro-G...</td>\n",
       "      <td>1</td>\n",
       "      <td>8.056743</td>\n",
       "      <td>8.434807</td>\n",
       "      <td>6.089592</td>\n",
       "      <td>74.963525</td>\n",
       "      <td>0.053352</td>\n",
       "      <td>55.654369</td>\n",
       "      <td>35.755761</td>\n",
       "      <td>mod RNA</td>\n",
       "      <td>100</td>\n",
       "    </tr>\n",
       "    <tr>\n",
       "      <th>2</th>\n",
       "      <td>-Gms-Ums-Ams-Uro-Aro-Uro-Aro-Gro-Aro-Uro-Gro-A...</td>\n",
       "      <td>1</td>\n",
       "      <td>5.376105</td>\n",
       "      <td>10.042194</td>\n",
       "      <td>9.068502</td>\n",
       "      <td>73.169193</td>\n",
       "      <td>0.000000</td>\n",
       "      <td>55.654369</td>\n",
       "      <td>35.755761</td>\n",
       "      <td>mod RNA</td>\n",
       "      <td>100</td>\n",
       "    </tr>\n",
       "    <tr>\n",
       "      <th>3</th>\n",
       "      <td>-Cms-Ums-Cms-Cro-Cro-Uro-Cro-Cro-Cro-Aro-Gro-G...</td>\n",
       "      <td>1</td>\n",
       "      <td>1.932084</td>\n",
       "      <td>10.383295</td>\n",
       "      <td>4.258049</td>\n",
       "      <td>73.053785</td>\n",
       "      <td>0.000000</td>\n",
       "      <td>55.654369</td>\n",
       "      <td>35.755761</td>\n",
       "      <td>mod RNA</td>\n",
       "      <td>100</td>\n",
       "    </tr>\n",
       "    <tr>\n",
       "      <th>4</th>\n",
       "      <td>-Cms-Ums-Cms-Cro-Cro-Uro-Cro-Cro-Cro-Aro-Gro-G...</td>\n",
       "      <td>1</td>\n",
       "      <td>7.064074</td>\n",
       "      <td>4.899295</td>\n",
       "      <td>9.150096</td>\n",
       "      <td>77.128862</td>\n",
       "      <td>0.000000</td>\n",
       "      <td>55.654369</td>\n",
       "      <td>35.755761</td>\n",
       "      <td>mod RNA</td>\n",
       "      <td>100</td>\n",
       "    </tr>\n",
       "  </tbody>\n",
       "</table>\n",
       "</div>"
      ],
      "text/plain": [
       "                                four_letter_sequence  synthesis_id       n-1  \\\n",
       "0  -Gms-Ums-Cms-Gro-Cro-Uro-Cro-Cro-Cro-Cro-Gro-G...             1  4.797640   \n",
       "1  -Ums-Cms-Ams-Gro-Gro-Cro-Cro-Gro-Cro-Aro-Gro-G...             1  8.056743   \n",
       "2  -Gms-Ums-Ams-Uro-Aro-Uro-Aro-Gro-Aro-Uro-Gro-A...             1  5.376105   \n",
       "3  -Cms-Ums-Cms-Cro-Cro-Uro-Cro-Cro-Cro-Aro-Gro-G...             1  1.932084   \n",
       "4  -Cms-Ums-Cms-Cro-Cro-Uro-Cro-Cro-Cro-Aro-Gro-G...             1  7.064074   \n",
       "\n",
       "         n+1  pure_yield  full_length_product  other_impurity  \\\n",
       "0   6.381929    8.795529            74.553685        0.021143   \n",
       "1   8.434807    6.089592            74.963525        0.053352   \n",
       "2  10.042194    9.068502            73.169193        0.000000   \n",
       "3  10.383295    4.258049            73.053785        0.000000   \n",
       "4   4.899295    9.150096            77.128862        0.000000   \n",
       "\n",
       "   synthesis_duration  postprocessing_duration product_type  length  \n",
       "0           55.654369                35.755761      mod RNA     100  \n",
       "1           55.654369                35.755761      mod RNA     100  \n",
       "2           55.654369                35.755761      mod RNA     100  \n",
       "3           55.654369                35.755761      mod RNA     100  \n",
       "4           55.654369                35.755761      mod RNA     100  "
      ]
     },
     "execution_count": 36,
     "metadata": {},
     "output_type": "execute_result"
    }
   ],
   "source": [
    "data.head()"
   ]
  },
  {
   "cell_type": "code",
   "execution_count": 37,
   "metadata": {},
   "outputs": [],
   "source": [
    "#b. What seems to be affecting the pure yield? What other variables seem to be related to the pure yield (e.g.,\n",
    "#full length product, etc.)? Show any plots or descriptive statistics you use to explore this data and what\n",
    "#strategies were needed to clean the data."
   ]
  },
  {
   "cell_type": "code",
   "execution_count": 38,
   "metadata": {},
   "outputs": [],
   "source": [
    "#synthesis_id on pure_yield\n",
    "df = data.loc[:, (\"synthesis_id\", \"pure_yield\")]"
   ]
  },
  {
   "cell_type": "code",
   "execution_count": 48,
   "metadata": {},
   "outputs": [
    {
     "data": {
      "text/plain": [
       "<matplotlib.axes._subplots.AxesSubplot at 0x7fcabc85ee48>"
      ]
     },
     "execution_count": 48,
     "metadata": {},
     "output_type": "execute_result"
    },
    {
     "data": {
      "image/png": "[encoded data removed]",
      "text/plain": [
       "<Figure size 432x288 with 1 Axes>"
      ]
     },
     "metadata": {
      "needs_background": "light"
     },
     "output_type": "display_data"
    }
   ],
   "source": [
    "df.plot.scatter(x=\"synthesis_id\", y=\"pure_yield\")"
   ]
  },
  {
   "cell_type": "code",
   "execution_count": 49,
   "metadata": {},
   "outputs": [],
   "source": [
    "df_mean = df.groupby(\"synthesis_id\").mean()\n",
    "df_std = df.groupby(\"synthesis_id\").std()"
   ]
  },
  {
   "cell_type": "code",
   "execution_count": 63,
   "metadata": {},
   "outputs": [],
   "source": [
    "#product types on purity\n",
    "df = data.loc[:, (\"pure_yield\", \"product_type\")]"
   ]
  },
  {
   "cell_type": "code",
   "execution_count": 64,
   "metadata": {},
   "outputs": [],
   "source": [
    "df_mean = df.groupby(\"product_type\").mean()\n",
    "df_std = df.groupby(\"product_type\").std()"
   ]
  },
  {
   "cell_type": "code",
   "execution_count": 71,
   "metadata": {},
   "outputs": [],
   "source": [
    "types= [\"mod RNA\", \"chimera\", \"vanilla RNA\"]\n",
    "df[\"type_id\"] = df[\"product_type\"].apply(lambda x : types.index(x))"
   ]
  },
  {
   "cell_type": "code",
   "execution_count": 74,
   "metadata": {},
   "outputs": [
    {
     "data": {
      "text/plain": [
       "<matplotlib.axes._subplots.AxesSubplot at 0x7fcabc774588>"
      ]
     },
     "execution_count": 74,
     "metadata": {},
     "output_type": "execute_result"
    },
    {
     "data": {
      "image/png": "[encoded data removed]",
      "text/plain": [
       "<Figure size 432x288 with 1 Axes>"
      ]
     },
     "metadata": {
      "needs_background": "light"
     },
     "output_type": "display_data"
    }
   ],
   "source": [
    "df.plot.scatter(x=\"type_id\", y=\"pure_yield\")"
   ]
  },
  {
   "cell_type": "code",
   "execution_count": null,
   "metadata": {},
   "outputs": [],
   "source": []
  }
 ],
 "metadata": {
  "kernelspec": {
   "display_name": "Python 3",
   "language": "python",
   "name": "python3"
  },
  "language_info": {
   "codemirror_mode": {
    "name": "ipython",
    "version": 3
   },
   "file_extension": ".py",
   "mimetype": "text/x-python",
   "name": "python",
   "nbconvert_exporter": "python",
   "pygments_lexer": "ipython3",
   "version": "3.6.6"
  }
 },
 "nbformat": 4,
 "nbformat_minor": 2
}
